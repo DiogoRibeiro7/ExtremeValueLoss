{
 "cells": [
  {
   "cell_type": "code",
   "execution_count": 1,
   "metadata": {},
   "outputs": [],
   "source": [
    "%matplotlib inline\n",
    "\n",
    "import numpy as np\n",
    "import matplotlib.pyplot as plt\n",
    "import seaborn\n",
    "\n",
    "import glob\n",
    "import sys\n",
    "\n",
    "from math import *\n",
    "import pickle\n",
    "\n",
    "from sklearn.mixture import GaussianMixture\n",
    "\n",
    "from IPython import display\n",
    "import time\n",
    "\n",
    "from PIL import Image\n",
    "\n",
    "import copy\n",
    "import subprocess as sp\n",
    "\n",
    "def tovar(x):\n",
    "    return torch.cuda.FloatTensor(x)\n",
    "\n",
    "def toivar(x):\n",
    "    return torch.cuda.LongTensor(x)"
   ]
  },
  {
   "cell_type": "code",
   "execution_count": 2,
   "metadata": {},
   "outputs": [],
   "source": [
    "def mkDataset(N=1, d=1, seed=1, pts=5000):\n",
    "  np.random.seed(seed)\n",
    "  mu = np.random.rand(N,d)*12-6\n",
    "  \n",
    "  idx = np.random.randint(N, size=(pts,))\n",
    "  \n",
    "  return np.random.randn(pts,d) + mu[idx], mu"
   ]
  },
  {
   "cell_type": "code",
   "execution_count": 3,
   "metadata": {},
   "outputs": [],
   "source": [
    "def addSubData(hist, x, p, dim, maxdim, N, idx):\n",
    "    if dim<maxdim:\n",
    "        xidx = np.clip((N*(x[:,dim]+12)/24), 0, N-1).astype(np.int32)\n",
    "        for i in range(N):\n",
    "            keep = xidx == i\n",
    "            addSubData(hist, x[keep], p[keep], dim+1, maxdim, N, idx + i*(N**dim))\n",
    "    else:\n",
    "        hist[idx] = np.sum(p)\n",
    "\n",
    "def estimate_Nd_KL(x, y, p, N=20):\n",
    "    d = x.shape[1]\n",
    "\n",
    "    histx = np.zeros((N**d))\n",
    "    histy = np.zeros((N**d))\n",
    "    \n",
    "    addSubData(histx, x, np.ones(x.shape[0]), 0, d, N, 0)\n",
    "\n",
    "    addSubData(histy, y, p, 0, d, N, 0)\n",
    "\n",
    "    histx = histx / np.sum(histx)\n",
    "    histy = histy / np.sum(histy)\n",
    "    \n",
    "    fisher = 2*acos(np.sum(np.sqrt(histx*histy)))\n",
    "    \n",
    "    nonzero = (histx>0)\n",
    "    histx = histx[nonzero]\n",
    "    histy = histy[nonzero]\n",
    "    \n",
    "    histy = histy + 1e-32\n",
    "    histy = histy / np.sum(histy)\n",
    "    histx = histx / np.sum(histx)\n",
    "\n",
    "    KL = -np.sum(histx*np.log(histy/histx))\n",
    "\n",
    "    return KL, fisher  "
   ]
  },
  {
   "cell_type": "code",
   "execution_count": 4,
   "metadata": {},
   "outputs": [],
   "source": [
    "def EvalGMM(N=4, d=2, seed=1, pts=50000):\n",
    "    xall, mu = mkDataset(N=N, d=d, seed=seed, pts=pts + 400000)\n",
    "\n",
    "    x = xall[0:pts]\n",
    "    xtrue = xall[pts:]\n",
    "\n",
    "    mixmodel = GaussianMixture(n_components=10)\n",
    "    mixmodel.fit(x)\n",
    "    y, _ = mixmodel.sample(400000)\n",
    "\n",
    "    return estimate_Nd_KL(xtrue,y,np.ones(y.shape[0]))\n",
    "\n",
    "def EvalEmpirical(N=4, d=2, seed=1, pts=50000, R=20):\n",
    "    xall, mu = mkDataset(N=N, d=d, seed=seed, pts=pts + 400000)\n",
    "\n",
    "    x = xall[0:pts]\n",
    "    xtrue = xall[pts:]\n",
    "\n",
    "    return estimate_Nd_KL(xtrue,x,np.ones(x.shape[0]), N=R)"
   ]
  },
  {
   "cell_type": "code",
   "execution_count": 12,
   "metadata": {},
   "outputs": [
    {
     "name": "stdout",
     "output_type": "stream",
     "text": [
      "d=1\n",
      "N=1\n",
      "0.001434981703954667\n",
      "0.0035273672417401713\n",
      "0.0035035178943827057\n",
      "0.0034498980228426495\n",
      "0.00494716826431083\n",
      "N=2\n",
      "0.002562248191551715\n",
      "0.002864569670314738\n",
      "0.006989891950650592\n",
      "0.003964840247970311\n",
      "0.004090356205354475\n",
      "N=3\n",
      "0.0025513703821394527\n",
      "0.0029759329071930574\n",
      "0.00540549069055435\n",
      "0.0013852850149422842\n",
      "0.002469981247532653\n",
      "N=4\n",
      "0.0016791854149310124\n",
      "0.0029699965637749823\n",
      "0.0005918221721280537\n",
      "0.002838180419460874\n",
      "0.006006502471281322\n",
      "N=5\n",
      "0.004041507086394763\n",
      "0.002008929286335308\n",
      "0.00572664402357222\n",
      "0.0016772829753642139\n",
      "0.0008070979862061548\n",
      "N=6\n",
      "0.0013342641399962537\n",
      "0.0007369398253192098\n",
      "0.003877887437401666\n",
      "0.002767722493830712\n",
      "0.005945823572856057\n",
      "N=7\n",
      "0.0014136102676999623\n",
      "0.0012264469743959144\n",
      "0.0034043029762192856\n",
      "0.0034359719271367106\n",
      "0.0023226919040792776\n",
      "N=8\n",
      "0.0023687591078342587\n",
      "0.0017577588334581793\n",
      "0.001704029115311559\n",
      "0.0025288504504404055\n",
      "0.0032590428070278653\n",
      "N=9\n",
      "0.0030196231445896804\n",
      "0.0011843897000176626\n",
      "0.0031962706836123605\n",
      "0.0032333333199780585\n",
      "0.006221044504911157\n",
      "N=10\n",
      "0.006560500567471749\n",
      "0.004365658333890873\n",
      "0.002409856220372095\n",
      "0.0029287424244399426\n",
      "0.0012634134979010473\n",
      "d=2\n",
      "N=1\n",
      "0.008068770433026094\n",
      "0.009036134108533272\n",
      "0.005347796749024838\n",
      "0.013068670343080225\n",
      "0.011368756290437373\n",
      "N=2\n",
      "0.008812905322300535\n",
      "0.012303242943213511\n",
      "0.011102046144855004\n",
      "0.008131773529282004\n",
      "0.006159904471427685\n",
      "N=3\n",
      "0.007518535101627063\n",
      "0.007896087013844144\n",
      "0.009135992037069697\n",
      "0.012299630778507136\n",
      "0.009754327661915965\n",
      "N=4\n",
      "0.010364966052745747\n",
      "0.012483071231497956\n",
      "0.00839661902581395\n",
      "0.008408755945273905\n",
      "0.0105394722495812\n",
      "N=5\n",
      "0.007348388595158049\n",
      "0.008513185533004182\n",
      "0.008776719170191735\n",
      "0.005811287810938831\n",
      "0.013075939935468364\n",
      "N=6\n",
      "0.008164630575276381\n",
      "0.00870148992734918\n",
      "0.007356608346106077\n",
      "0.007109624950772687\n",
      "0.008694800698178205\n",
      "N=7\n",
      "0.009253073340978853\n",
      "0.005964064563625365\n",
      "0.008184737091336821\n",
      "0.010015224194734098\n",
      "0.009309217892980661\n",
      "N=8\n",
      "0.009256101689541841\n",
      "0.007979615112540875\n",
      "0.006150187747631132\n",
      "0.009482260828354561\n",
      "0.008370891067965718\n",
      "N=9\n",
      "0.004539724273791418\n",
      "0.005611801270289377\n",
      "0.005858646263896567\n",
      "0.00927434860041997\n",
      "0.005560318923400281\n",
      "N=10\n",
      "0.007282862413016898\n",
      "0.008160947386426283\n",
      "0.005261689011337264\n",
      "0.006993752245921438\n",
      "0.01147049234254871\n",
      "d=3\n",
      "N=1\n",
      "0.018402375648992577\n",
      "0.029024931826902835\n",
      "0.03779934748508354\n",
      "0.02280117446281011\n",
      "0.028145818701579704\n",
      "N=2\n",
      "0.030294253806649126\n",
      "0.029483966363271306\n",
      "0.030921071243682666\n",
      "0.029117021977952715\n",
      "0.038907636432063804\n",
      "N=3\n",
      "0.03565783278204156\n",
      "0.036212415351205354\n",
      "0.03217295622214602\n",
      "0.04142977461154506\n",
      "0.03582139395446697\n",
      "N=4\n",
      "0.03468244943573476\n",
      "0.033262493088241585\n",
      "0.044940854137786986\n",
      "0.040993000291461745\n",
      "0.039945771961529486\n",
      "N=5\n",
      "0.03322299816373413\n",
      "0.02959915419608558\n",
      "0.04244219884782644\n",
      "0.03988614514170618\n",
      "0.04548913554461304\n",
      "N=6\n",
      "0.033123495976603905\n",
      "0.04182277011589819\n",
      "0.04998433349383504\n",
      "0.03969431590532101\n",
      "0.037674005398609337\n",
      "N=7\n",
      "0.03267108854729952\n",
      "0.038803876162951834\n",
      "0.029896781343157035\n",
      "0.04719557300618777\n",
      "0.038471074195784716\n",
      "N=8\n",
      "0.033516544834540696\n",
      "0.03626617108595462\n",
      "0.02902668437131605\n",
      "0.04649137449589667\n",
      "0.028841432256157432\n",
      "N=9\n",
      "0.04518542611710732\n",
      "0.03449437648550739\n",
      "0.041252377180178684\n",
      "0.051939738724434914\n",
      "0.03016890826413046\n",
      "N=10\n",
      "0.03994747463591113\n",
      "0.03466232311537658\n",
      "0.042680156777257124\n",
      "0.06628043519352533\n",
      "0.059558745992006876\n",
      "d=4\n",
      "N=1\n",
      "0.07453110360042506\n",
      "0.06639594706983637\n",
      "0.07078085764260053\n",
      "0.0718537597536341\n",
      "0.07642489621630423\n",
      "N=2\n",
      "0.11472444003831477\n",
      "0.09803129208473604\n",
      "0.10333755954331295\n",
      "0.12345689585459926\n",
      "0.11348286506814892\n",
      "N=3\n",
      "0.13788640353291348\n",
      "0.12294430176461527\n",
      "0.13709998466056778\n",
      "0.1552982109243533\n",
      "0.16296319763711392\n",
      "N=4\n",
      "0.15785383422593152\n",
      "0.12283116696450744\n",
      "0.15512808437986847\n",
      "0.1773514680928472\n",
      "0.18493118854592078\n",
      "N=5\n",
      "0.17174929490482393\n",
      "0.14556244026736959\n",
      "0.17979777496412275\n",
      "0.20681945912744298\n",
      "0.18053582223503992\n",
      "N=6\n",
      "0.17755790011660516\n",
      "0.1786011482090002\n",
      "0.18666970216813938\n",
      "0.2614510109239099\n",
      "0.1948076623709147\n",
      "N=7\n",
      "0.2136879743051165\n",
      "0.21767779304112927\n",
      "0.1840931897201765\n",
      "0.25944563165615087\n",
      "0.21138148041809407\n",
      "N=8\n",
      "0.21736878328263312\n",
      "0.20413301926890837\n",
      "0.194658254096786\n",
      "0.27191512336646545\n",
      "0.2272002433646423\n",
      "N=9\n",
      "0.25114138644253975\n",
      "0.17959961673805785\n",
      "0.2183208560496651\n",
      "0.2828343576182636\n",
      "0.2486845914145778\n",
      "N=10\n",
      "0.2314246250130443\n",
      "0.21505345974720202\n",
      "0.22692795270233576\n",
      "0.3125078915712003\n",
      "0.2819146046364314\n"
     ]
    }
   ],
   "source": [
    "Ds = []\n",
    "for d in range(1,5):\n",
    "    print(\"d=%d\" % d)\n",
    "    Ns = []\n",
    "    for N in range(1,11):\n",
    "        print(\"N=%d\" % N)\n",
    "        pts = []\n",
    "        for seed in range(1,6):\n",
    "            KL, fisher = EvalGMM(N, d, seed, pts=5000)\n",
    "            print(KL)\n",
    "            pts.append(np.array([KL,fisher]))\n",
    "        Ns.append(np.array(pts))\n",
    "    Ds.append(np.array(Ns))\n",
    "Ds = np.array(Ds)"
   ]
  },
  {
   "cell_type": "code",
   "execution_count": 9,
   "metadata": {},
   "outputs": [
    {
     "data": {
      "text/plain": [
       "(4, 10, 5, 2)"
      ]
     },
     "execution_count": 9,
     "metadata": {},
     "output_type": "execute_result"
    }
   ],
   "source": [
    "Ds.shape"
   ]
  },
  {
   "cell_type": "code",
   "execution_count": 34,
   "metadata": {},
   "outputs": [],
   "source": [
    "mu_D3 = np.mean(Ds,axis=2)\n",
    "std_D3 = np.std(Ds,axis=2)"
   ]
  },
  {
   "cell_type": "code",
   "execution_count": 13,
   "metadata": {},
   "outputs": [],
   "source": [
    "np.save(\"gmm_Ds_5k.npy\", Ds)"
   ]
  },
  {
   "cell_type": "code",
   "execution_count": 14,
   "metadata": {},
   "outputs": [
    {
     "name": "stdout",
     "output_type": "stream",
     "text": [
      "d=1\n",
      "N=1\n",
      "N=2\n",
      "N=3\n",
      "N=4\n",
      "N=5\n",
      "N=6\n",
      "N=7\n",
      "N=8\n",
      "N=9\n",
      "N=10\n",
      "d=2\n",
      "N=1\n",
      "N=2\n",
      "N=3\n",
      "N=4\n",
      "N=5\n",
      "N=6\n",
      "N=7\n",
      "N=8\n",
      "N=9\n",
      "N=10\n",
      "d=3\n",
      "N=1\n",
      "N=2\n",
      "N=3\n",
      "N=4\n",
      "N=5\n",
      "N=6\n",
      "N=7\n",
      "N=8\n",
      "N=9\n",
      "N=10\n",
      "d=4\n",
      "N=1\n",
      "N=2\n",
      "N=3\n",
      "N=4\n",
      "N=5\n",
      "N=6\n",
      "N=7\n",
      "N=8\n",
      "N=9\n",
      "N=10\n"
     ]
    }
   ],
   "source": [
    "Ds = []\n",
    "for d in range(1,5):\n",
    "    print(\"d=%d\" % d)\n",
    "    Ns = []\n",
    "    for N in range(1,11):\n",
    "        print(\"N=%d\" % N)\n",
    "        pts = []\n",
    "        for seed in range(1,6):\n",
    "            KL, fisher = EvalEmpirical(N, d, seed, R=20, pts=5000)\n",
    "            pts.append(np.array([KL,fisher]))\n",
    "        Ns.append(np.array(pts))\n",
    "    Ds.append(np.array(Ns))\n",
    "Ds = np.array(Ds)"
   ]
  },
  {
   "cell_type": "code",
   "execution_count": 15,
   "metadata": {},
   "outputs": [],
   "source": [
    "np.save(\"emp_Ds_5k.npy\", Ds)"
   ]
  },
  {
   "cell_type": "code",
   "execution_count": 25,
   "metadata": {},
   "outputs": [
    {
     "data": {
      "image/png": "[encoded data removed]",
      "text/plain": [
       "<Figure size 432x288 with 1 Axes>"
      ]
     },
     "metadata": {
      "needs_background": "light"
     },
     "output_type": "display_data"
    }
   ],
   "source": [
    "xall, mu = mkDataset(N=10, d=2, seed=1, pts=100000)\n",
    "plt.hist2d(xall[:,0],xall[:,1],40)\n",
    "plt.show()"
   ]
  },
  {
   "cell_type": "code",
   "execution_count": null,
   "metadata": {},
   "outputs": [],
   "source": []
  },
  {
   "cell_type": "code",
   "execution_count": 42,
   "metadata": {},
   "outputs": [],
   "source": [
    "from sklearn.datasets import make_swiss_roll"
   ]
  },
  {
   "cell_type": "code",
   "execution_count": 78,
   "metadata": {},
   "outputs": [],
   "source": [
    "xall = make_swiss_roll(n_samples=105000)[0]*0.75\n",
    "\n",
    "x = xall[0:5000]\n",
    "xtrue = xall[5000:]\n",
    "\n",
    "mixmodel = GaussianMixture(n_components=10)\n",
    "mixmodel.fit(x)\n",
    "y, _ = mixmodel.sample(100000)"
   ]
  },
  {
   "cell_type": "code",
   "execution_count": 79,
   "metadata": {},
   "outputs": [
    {
     "data": {
      "image/png": "[encoded data removed]",
      "text/plain": [
       "<Figure size 432x288 with 1 Axes>"
      ]
     },
     "metadata": {
      "needs_background": "light"
     },
     "output_type": "display_data"
    }
   ],
   "source": [
    "plt.scatter(xall[::100,0], xall[::100,2])\n",
    "plt.scatter(y[::100,0], y[::100,2])\n",
    "plt.show()"
   ]
  },
  {
   "cell_type": "code",
   "execution_count": 80,
   "metadata": {},
   "outputs": [
    {
     "data": {
      "text/plain": [
       "(3,)"
      ]
     },
     "execution_count": 80,
     "metadata": {},
     "output_type": "execute_result"
    }
   ],
   "source": [
    "xall[1].shape"
   ]
  },
  {
   "cell_type": "code",
   "execution_count": 81,
   "metadata": {},
   "outputs": [
    {
     "data": {
      "text/plain": [
       "0.8747944583707264"
      ]
     },
     "execution_count": 81,
     "metadata": {},
     "output_type": "execute_result"
    }
   ],
   "source": [
    "estimate_Nd_KL(xtrue,y,np.ones(y.shape[0]))"
   ]
  },
  {
   "cell_type": "code",
   "execution_count": null,
   "metadata": {},
   "outputs": [],
   "source": []
  }
 ],
 "metadata": {
  "kernelspec": {
   "display_name": "Python 3",
   "language": "python",
   "name": "python3"
  },
  "language_info": {
   "codemirror_mode": {
    "name": "ipython",
    "version": 3
   },
   "file_extension": ".py",
   "mimetype": "text/x-python",
   "name": "python",
   "nbconvert_exporter": "python",
   "pygments_lexer": "ipython3",
   "version": "3.6.3"
  }
 },
 "nbformat": 4,
 "nbformat_minor": 2
}
